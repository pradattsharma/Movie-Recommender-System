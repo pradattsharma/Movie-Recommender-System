{
 "cells": [
  {
   "cell_type": "code",
   "execution_count": 19,
   "metadata": {},
   "outputs": [],
   "source": [
    "# Importing required modules\n",
    "import pandas as pd\n",
    "import numpy as np\n",
    "import pickle\n",
    "from sklearn.feature_extraction.text import CountVectorizer\n",
    "from sklearn.metrics.pairwise import cosine_similarity"
   ]
  },
  {
   "cell_type": "code",
   "execution_count": 20,
   "metadata": {},
   "outputs": [
    {
     "data": {
      "text/plain": [
       "Index(['color', 'director_name', 'movie_facebook_likes', 'plot_keywords',\n",
       "       'genres', 'actor_1_name', 'imdb_score', 'movie_title', 'combine'],\n",
       "      dtype='object')"
      ]
     },
     "execution_count": 20,
     "metadata": {},
     "output_type": "execute_result"
    }
   ],
   "source": [
    "#Reading dataset\n",
    "data = pd.read_csv('movie_data.csv')\n",
    "data.columns"
   ]
  },
  {
   "cell_type": "code",
   "execution_count": 21,
   "metadata": {},
   "outputs": [],
   "source": [
    "#create a 'combine' column with all string columns together\n",
    "data['combine'] = data['color']+' '+data['director_name']+' '+data['actor_1_name']+' '+data['genres']+' '+data['plot_keywords']\n",
    "#data.combine"
   ]
  },
  {
   "cell_type": "code",
   "execution_count": 22,
   "metadata": {},
   "outputs": [],
   "source": [
    "#Create a count matrix using Count Vectorizer\n",
    "vect = CountVectorizer()\n",
    "count_matrix = vect.fit_transform(data['combine'])"
   ]
  },
  {
   "cell_type": "code",
   "execution_count": 23,
   "metadata": {},
   "outputs": [],
   "source": [
    "#create a similarity matrix using cosine_similarity\n",
    "similarity = cosine_similarity(count_matrix)"
   ]
  },
  {
   "cell_type": "code",
   "execution_count": 24,
   "metadata": {},
   "outputs": [],
   "source": [
    "#save similarity matrix and also pickle it\n",
    "np.save('Similarity_matrix', similarity)\n",
    "\n",
    "similarity_matrix = open('similarity_matrix.pickle', 'wb')\n",
    "pickle.dump(similarity, similarity_matrix)\n",
    "similarity_matrix.close()"
   ]
  },
  {
   "cell_type": "code",
   "execution_count": 25,
   "metadata": {},
   "outputs": [
    {
     "data": {
      "text/html": [
       "<div>\n",
       "<style scoped>\n",
       "    .dataframe tbody tr th:only-of-type {\n",
       "        vertical-align: middle;\n",
       "    }\n",
       "\n",
       "    .dataframe tbody tr th {\n",
       "        vertical-align: top;\n",
       "    }\n",
       "\n",
       "    .dataframe thead th {\n",
       "        text-align: right;\n",
       "    }\n",
       "</style>\n",
       "<table border=\"1\" class=\"dataframe\">\n",
       "  <thead>\n",
       "    <tr style=\"text-align: right;\">\n",
       "      <th></th>\n",
       "      <th>color</th>\n",
       "      <th>director_name</th>\n",
       "      <th>movie_facebook_likes</th>\n",
       "      <th>plot_keywords</th>\n",
       "      <th>genres</th>\n",
       "      <th>actor_1_name</th>\n",
       "      <th>imdb_score</th>\n",
       "      <th>movie_title</th>\n",
       "      <th>combine</th>\n",
       "    </tr>\n",
       "  </thead>\n",
       "  <tbody>\n",
       "    <tr>\n",
       "      <th>0</th>\n",
       "      <td>Color</td>\n",
       "      <td>James Cameron</td>\n",
       "      <td>33000</td>\n",
       "      <td>avatar future marine native paraplegic</td>\n",
       "      <td>Action Adventure Fantasy Sci-Fi</td>\n",
       "      <td>CCH Pounder</td>\n",
       "      <td>7.9</td>\n",
       "      <td>avatar</td>\n",
       "      <td>Color James Cameron CCH Pounder Action Adventu...</td>\n",
       "    </tr>\n",
       "    <tr>\n",
       "      <th>1</th>\n",
       "      <td>Color</td>\n",
       "      <td>Gore Verbinski</td>\n",
       "      <td>0</td>\n",
       "      <td>goddess marriage ceremony marriage proposal pi...</td>\n",
       "      <td>Action Adventure Fantasy</td>\n",
       "      <td>Johnny Depp</td>\n",
       "      <td>7.1</td>\n",
       "      <td>pirates of the caribbean: at world's end</td>\n",
       "      <td>Color Gore Verbinski Johnny Depp Action Advent...</td>\n",
       "    </tr>\n",
       "    <tr>\n",
       "      <th>2</th>\n",
       "      <td>Color</td>\n",
       "      <td>Sam Mendes</td>\n",
       "      <td>85000</td>\n",
       "      <td>bomb espionage sequel spy terrorist</td>\n",
       "      <td>Action Adventure Thriller</td>\n",
       "      <td>Christoph Waltz</td>\n",
       "      <td>6.8</td>\n",
       "      <td>spectre</td>\n",
       "      <td>Color Sam Mendes Christoph Waltz Action Advent...</td>\n",
       "    </tr>\n",
       "    <tr>\n",
       "      <th>3</th>\n",
       "      <td>Color</td>\n",
       "      <td>Christopher Nolan</td>\n",
       "      <td>164000</td>\n",
       "      <td>deception imprisonment lawlessness police offi...</td>\n",
       "      <td>Action Thriller</td>\n",
       "      <td>Tom Hardy</td>\n",
       "      <td>8.5</td>\n",
       "      <td>the dark knight rises</td>\n",
       "      <td>Color Christopher Nolan Tom Hardy Action Thril...</td>\n",
       "    </tr>\n",
       "    <tr>\n",
       "      <th>4</th>\n",
       "      <td>unknown</td>\n",
       "      <td>Doug Walker</td>\n",
       "      <td>0</td>\n",
       "      <td>unknown</td>\n",
       "      <td>Documentary</td>\n",
       "      <td>Doug Walker</td>\n",
       "      <td>7.1</td>\n",
       "      <td>star wars: episode vii - the force awakens    ...</td>\n",
       "      <td>unknown Doug Walker Doug Walker Documentary un...</td>\n",
       "    </tr>\n",
       "  </tbody>\n",
       "</table>\n",
       "</div>"
      ],
      "text/plain": [
       "     color      director_name  movie_facebook_likes  \\\n",
       "0    Color      James Cameron                 33000   \n",
       "1    Color     Gore Verbinski                     0   \n",
       "2    Color         Sam Mendes                 85000   \n",
       "3    Color  Christopher Nolan                164000   \n",
       "4  unknown        Doug Walker                     0   \n",
       "\n",
       "                                       plot_keywords  \\\n",
       "0             avatar future marine native paraplegic   \n",
       "1  goddess marriage ceremony marriage proposal pi...   \n",
       "2                bomb espionage sequel spy terrorist   \n",
       "3  deception imprisonment lawlessness police offi...   \n",
       "4                                            unknown   \n",
       "\n",
       "                            genres     actor_1_name  imdb_score  \\\n",
       "0  Action Adventure Fantasy Sci-Fi      CCH Pounder         7.9   \n",
       "1         Action Adventure Fantasy      Johnny Depp         7.1   \n",
       "2        Action Adventure Thriller  Christoph Waltz         6.8   \n",
       "3                  Action Thriller        Tom Hardy         8.5   \n",
       "4                      Documentary      Doug Walker         7.1   \n",
       "\n",
       "                                         movie_title  \\\n",
       "0                                             avatar   \n",
       "1           pirates of the caribbean: at world's end   \n",
       "2                                            spectre   \n",
       "3                              the dark knight rises   \n",
       "4  star wars: episode vii - the force awakens    ...   \n",
       "\n",
       "                                             combine  \n",
       "0  Color James Cameron CCH Pounder Action Adventu...  \n",
       "1  Color Gore Verbinski Johnny Depp Action Advent...  \n",
       "2  Color Sam Mendes Christoph Waltz Action Advent...  \n",
       "3  Color Christopher Nolan Tom Hardy Action Thril...  \n",
       "4  unknown Doug Walker Doug Walker Documentary un...  "
      ]
     },
     "execution_count": 25,
     "metadata": {},
     "output_type": "execute_result"
    }
   ],
   "source": [
    "data.head()"
   ]
  },
  {
   "cell_type": "code",
   "execution_count": 14,
   "metadata": {},
   "outputs": [],
   "source": [
    "#save new dataset without index and pickle it\n",
    "data.to_csv('movie_data.csv', index=False)\n",
    "\n",
    "save_data = open('saved_data.pickle', 'wb')\n",
    "pickle.dump(data, save_data)\n",
    "save_data.close()"
   ]
  },
  {
   "cell_type": "code",
   "execution_count": null,
   "metadata": {},
   "outputs": [],
   "source": []
  }
 ],
 "metadata": {
  "kernelspec": {
   "display_name": "Python 3",
   "language": "python",
   "name": "python3"
  },
  "language_info": {
   "codemirror_mode": {
    "name": "ipython",
    "version": 3
   },
   "file_extension": ".py",
   "mimetype": "text/x-python",
   "name": "python",
   "nbconvert_exporter": "python",
   "pygments_lexer": "ipython3",
   "version": "3.7.3"
  }
 },
 "nbformat": 4,
 "nbformat_minor": 2
}
